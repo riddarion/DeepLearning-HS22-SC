{
 "cells": [
  {
   "cell_type": "code",
   "execution_count": 2,
   "metadata": {},
   "outputs": [],
   "source": [
    "import tensorflow as tf"
   ]
  },
  {
   "cell_type": "markdown",
   "metadata": {},
   "source": [
    "## 10. a)"
   ]
  },
  {
   "cell_type": "code",
   "execution_count": 3,
   "metadata": {},
   "outputs": [
    {
     "data": {
      "text/plain": [
       "<tf.Tensor: shape=(3, 5), dtype=float32, numpy=\n",
       "array([[ 0.59844667, -0.64314556,  0.6343175 , -0.06436311, -0.18917717],\n",
       "       [-0.07395139,  1.5152086 , -2.1877127 ,  0.06228583, -0.12020478],\n",
       "       [-0.67952895,  0.8243302 ,  0.78075606, -0.66708815, -0.77943105]],\n",
       "      dtype=float32)>"
      ]
     },
     "execution_count": 3,
     "metadata": {},
     "output_type": "execute_result"
    }
   ],
   "source": [
    "A = tf.random.normal(shape=[3,5])\n",
    "A"
   ]
  },
  {
   "cell_type": "code",
   "execution_count": 4,
   "metadata": {},
   "outputs": [
    {
     "data": {
      "text/plain": [
       "<tf.Tensor: shape=(5, 4), dtype=float32, numpy=\n",
       "array([[-0.05922869,  0.372223  ,  0.6063271 , -1.2167857 ],\n",
       "       [ 0.7449834 ,  1.4088173 , -0.5896711 ,  0.7967659 ],\n",
       "       [ 0.48785734,  1.2109197 , -0.8063556 ,  0.20526005],\n",
       "       [-0.45220175,  0.23629805, -0.7102674 , -0.05285984],\n",
       "       [-1.1804106 , -0.2248004 , -0.3926504 ,  0.5088926 ]],\n",
       "      dtype=float32)>"
      ]
     },
     "execution_count": 4,
     "metadata": {},
     "output_type": "execute_result"
    }
   ],
   "source": [
    "B = tf.random.normal(shape=[5,4])\n",
    "B"
   ]
  },
  {
   "cell_type": "code",
   "execution_count": 5,
   "metadata": {},
   "outputs": [],
   "source": [
    "import numpy as np\n",
    "np.savetxt('Matrizen_Ordner\\\\MatrixA.csv', A, delimiter=',')"
   ]
  },
  {
   "cell_type": "code",
   "execution_count": 6,
   "metadata": {},
   "outputs": [],
   "source": [
    "np.savetxt('Matrizen_Ordner\\\\MatrixB.csv', B, delimiter=',')"
   ]
  },
  {
   "cell_type": "markdown",
   "metadata": {},
   "source": [
    "## 10. b)"
   ]
  },
  {
   "cell_type": "code",
   "execution_count": 7,
   "metadata": {},
   "outputs": [
    {
     "data": {
      "text/html": [
       "<div>\n",
       "<style scoped>\n",
       "    .dataframe tbody tr th:only-of-type {\n",
       "        vertical-align: middle;\n",
       "    }\n",
       "\n",
       "    .dataframe tbody tr th {\n",
       "        vertical-align: top;\n",
       "    }\n",
       "\n",
       "    .dataframe thead th {\n",
       "        text-align: right;\n",
       "    }\n",
       "</style>\n",
       "<table border=\"1\" class=\"dataframe\">\n",
       "  <thead>\n",
       "    <tr style=\"text-align: right;\">\n",
       "      <th></th>\n",
       "      <th>0</th>\n",
       "      <th>1</th>\n",
       "      <th>2</th>\n",
       "      <th>3</th>\n",
       "      <th>4</th>\n",
       "    </tr>\n",
       "  </thead>\n",
       "  <tbody>\n",
       "    <tr>\n",
       "      <th>0</th>\n",
       "      <td>0.598447</td>\n",
       "      <td>-0.643146</td>\n",
       "      <td>0.634318</td>\n",
       "      <td>-0.064363</td>\n",
       "      <td>-0.189177</td>\n",
       "    </tr>\n",
       "    <tr>\n",
       "      <th>1</th>\n",
       "      <td>-0.073951</td>\n",
       "      <td>1.515209</td>\n",
       "      <td>-2.187713</td>\n",
       "      <td>0.062286</td>\n",
       "      <td>-0.120205</td>\n",
       "    </tr>\n",
       "    <tr>\n",
       "      <th>2</th>\n",
       "      <td>-0.679529</td>\n",
       "      <td>0.824330</td>\n",
       "      <td>0.780756</td>\n",
       "      <td>-0.667088</td>\n",
       "      <td>-0.779431</td>\n",
       "    </tr>\n",
       "  </tbody>\n",
       "</table>\n",
       "</div>"
      ],
      "text/plain": [
       "          0         1         2         3         4\n",
       "0  0.598447 -0.643146  0.634318 -0.064363 -0.189177\n",
       "1 -0.073951  1.515209 -2.187713  0.062286 -0.120205\n",
       "2 -0.679529  0.824330  0.780756 -0.667088 -0.779431"
      ]
     },
     "execution_count": 7,
     "metadata": {},
     "output_type": "execute_result"
    }
   ],
   "source": [
    "import pandas as pd\n",
    "\n",
    "dfA = pd.read_csv('Matrizen_Ordner\\\\MatrixA.csv', header=None)\n",
    "dfA"
   ]
  },
  {
   "cell_type": "code",
   "execution_count": 8,
   "metadata": {},
   "outputs": [
    {
     "data": {
      "text/html": [
       "<div>\n",
       "<style scoped>\n",
       "    .dataframe tbody tr th:only-of-type {\n",
       "        vertical-align: middle;\n",
       "    }\n",
       "\n",
       "    .dataframe tbody tr th {\n",
       "        vertical-align: top;\n",
       "    }\n",
       "\n",
       "    .dataframe thead th {\n",
       "        text-align: right;\n",
       "    }\n",
       "</style>\n",
       "<table border=\"1\" class=\"dataframe\">\n",
       "  <thead>\n",
       "    <tr style=\"text-align: right;\">\n",
       "      <th></th>\n",
       "      <th>0</th>\n",
       "      <th>1</th>\n",
       "      <th>2</th>\n",
       "      <th>3</th>\n",
       "    </tr>\n",
       "  </thead>\n",
       "  <tbody>\n",
       "    <tr>\n",
       "      <th>0</th>\n",
       "      <td>-0.059229</td>\n",
       "      <td>0.372223</td>\n",
       "      <td>0.606327</td>\n",
       "      <td>-1.216786</td>\n",
       "    </tr>\n",
       "    <tr>\n",
       "      <th>1</th>\n",
       "      <td>0.744983</td>\n",
       "      <td>1.408817</td>\n",
       "      <td>-0.589671</td>\n",
       "      <td>0.796766</td>\n",
       "    </tr>\n",
       "    <tr>\n",
       "      <th>2</th>\n",
       "      <td>0.487857</td>\n",
       "      <td>1.210920</td>\n",
       "      <td>-0.806356</td>\n",
       "      <td>0.205260</td>\n",
       "    </tr>\n",
       "    <tr>\n",
       "      <th>3</th>\n",
       "      <td>-0.452202</td>\n",
       "      <td>0.236298</td>\n",
       "      <td>-0.710267</td>\n",
       "      <td>-0.052860</td>\n",
       "    </tr>\n",
       "    <tr>\n",
       "      <th>4</th>\n",
       "      <td>-1.180411</td>\n",
       "      <td>-0.224800</td>\n",
       "      <td>-0.392650</td>\n",
       "      <td>0.508893</td>\n",
       "    </tr>\n",
       "  </tbody>\n",
       "</table>\n",
       "</div>"
      ],
      "text/plain": [
       "          0         1         2         3\n",
       "0 -0.059229  0.372223  0.606327 -1.216786\n",
       "1  0.744983  1.408817 -0.589671  0.796766\n",
       "2  0.487857  1.210920 -0.806356  0.205260\n",
       "3 -0.452202  0.236298 -0.710267 -0.052860\n",
       "4 -1.180411 -0.224800 -0.392650  0.508893"
      ]
     },
     "execution_count": 8,
     "metadata": {},
     "output_type": "execute_result"
    }
   ],
   "source": [
    "dfB = pd.read_csv('Matrizen_Ordner\\\\MatrixB.csv', header=None)\n",
    "dfB"
   ]
  },
  {
   "cell_type": "markdown",
   "metadata": {},
   "source": [
    "## 10. c)"
   ]
  },
  {
   "cell_type": "code",
   "execution_count": 9,
   "metadata": {},
   "outputs": [
    {
     "name": "stdout",
     "output_type": "stream",
     "text": [
      "MatrixA: tf.Tensor(\n",
      "[[ 0.59844667 -0.64314556  0.6343175  -0.06436311 -0.18917717]\n",
      " [-0.07395139  1.5152086  -2.1877127   0.06228583 -0.12020478]\n",
      " [-0.67952895  0.8243302   0.78075606 -0.66708815 -0.77943105]], shape=(3, 5), dtype=float32)\n",
      "MatrixB: tf.Tensor(\n",
      "[[-0.05922869  0.372223    0.6063271  -1.2167857 ]\n",
      " [ 0.7449834   1.4088173  -0.5896711   0.7967659 ]\n",
      " [ 0.48785734  1.2109197  -0.8063556   0.20526005]\n",
      " [-0.45220175  0.23629805 -0.7102674  -0.05285984]\n",
      " [-1.1804106  -0.2248004  -0.3926504   0.5088926 ]], shape=(5, 4), dtype=float32)\n",
      "Ergebnis: tf.Tensor(\n",
      "[[ 0.04729035  0.11210682  0.35060883 -1.2032864 ]\n",
      " [ 0.17961872 -0.50027853  0.82871985  0.7837358 ]\n",
      " [ 2.2569647   1.871412   -0.7478127   1.2825129 ]], shape=(3, 4), dtype=float32)\n"
     ]
    }
   ],
   "source": [
    "print(\"MatrixA:\", A)\n",
    "print(\"MatrixB:\", B)\n",
    "print(\"Ergebnis:\", tf.matmul(A,B))"
   ]
  },
  {
   "cell_type": "markdown",
   "metadata": {},
   "source": [
    "## 11."
   ]
  },
  {
   "cell_type": "code",
   "execution_count": 10,
   "metadata": {},
   "outputs": [],
   "source": [
    "def f_it(x):\n",
    "    y = []\n",
    "    for xi in x:\n",
    "        yi = xi**3 - 1/xi\n",
    "        y.append(yi)    \n",
    "    return y"
   ]
  },
  {
   "cell_type": "code",
   "execution_count": 11,
   "metadata": {},
   "outputs": [],
   "source": [
    "x = np.linspace(-5,5,100)\n",
    "y = f_it(x)"
   ]
  },
  {
   "cell_type": "code",
   "execution_count": 12,
   "metadata": {},
   "outputs": [
    {
     "data": {
      "image/png": "[encoded data removed]",
      "text/plain": [
       "<Figure size 432x288 with 1 Axes>"
      ]
     },
     "metadata": {
      "needs_background": "light"
     },
     "output_type": "display_data"
    }
   ],
   "source": [
    "import matplotlib.pyplot as plt\n",
    "\n",
    "#Koordinatensystem\n",
    "ax = plt.gca()\n",
    "ax.spines['left'].set_position('zero')\n",
    "ax.spines['bottom'].set_position('zero')\n",
    "ax.spines['right'].set_color('none')\n",
    "ax.spines['top'].set_color('none')\n",
    "\n",
    "#Funktion\n",
    "plt.plot(x,y, 'b')\n",
    "\n",
    "plt.show()"
   ]
  },
  {
   "cell_type": "code",
   "execution_count": 166,
   "metadata": {},
   "outputs": [],
   "source": [
    "def f(x):\n",
    "    y = x**3 - 1/x\n",
    "    return y"
   ]
  },
  {
   "cell_type": "code",
   "execution_count": 167,
   "metadata": {},
   "outputs": [],
   "source": [
    "def Df(x):\n",
    "    h = 3*x**2 + 1/x**2\n",
    "    return h"
   ]
  },
  {
   "cell_type": "code",
   "execution_count": 168,
   "metadata": {},
   "outputs": [],
   "source": [
    "x1 = 1\n",
    "h = Df(x1)\n",
    "y1 = f(x1)"
   ]
  },
  {
   "cell_type": "code",
   "execution_count": 169,
   "metadata": {},
   "outputs": [
    {
     "name": "stdout",
     "output_type": "stream",
     "text": [
      "4.0\n",
      "0.0\n"
     ]
    }
   ],
   "source": [
    "print(h)\n",
    "print(y1)"
   ]
  },
  {
   "cell_type": "code",
   "execution_count": 170,
   "metadata": {},
   "outputs": [
    {
     "data": {
      "text/plain": [
       "array([-4.        , -2.88888889, -1.77777778, -0.66666667,  0.44444444,\n",
       "        1.55555556,  2.66666667,  3.77777778,  4.88888889,  6.        ])"
      ]
     },
     "execution_count": 170,
     "metadata": {},
     "output_type": "execute_result"
    }
   ],
   "source": [
    "xrange = np.linspace(x1-5, x1+5, 10)\n",
    "xrange"
   ]
  },
  {
   "cell_type": "code",
   "execution_count": 171,
   "metadata": {},
   "outputs": [
    {
     "data": {
      "text/plain": [
       "[-20.0,\n",
       " -15.555555555555555,\n",
       " -11.11111111111111,\n",
       " -6.666666666666666,\n",
       " -2.2222222222222214,\n",
       " 2.2222222222222214,\n",
       " 6.666666666666668,\n",
       " 11.111111111111114,\n",
       " 15.555555555555557,\n",
       " 20.0]"
      ]
     },
     "execution_count": 171,
     "metadata": {},
     "output_type": "execute_result"
    }
   ],
   "source": [
    "def tangente(xrange, h):\n",
    "    yrange = []\n",
    "    for x in xrange:\n",
    "        y = h*x -h\n",
    "        yrange.append(y)\n",
    "    return yrange\n",
    "\n",
    "yrange = tangente(xrange, h)\n",
    "yrange"
   ]
  },
  {
   "cell_type": "code",
   "execution_count": 172,
   "metadata": {},
   "outputs": [
    {
     "data": {
      "image/png": "[encoded data removed]",
      "text/plain": [
       "<Figure size 432x288 with 1 Axes>"
      ]
     },
     "metadata": {
      "needs_background": "light"
     },
     "output_type": "display_data"
    }
   ],
   "source": [
    "#Koordinatensystem\n",
    "ax = plt.gca()\n",
    "ax.spines['left'].set_position('zero')\n",
    "ax.spines['bottom'].set_position('zero')\n",
    "ax.spines['right'].set_color('none')\n",
    "ax.spines['top'].set_color('none')\n",
    "\n",
    "#Funktion\n",
    "plt.plot(x,y, 'b')\n",
    "plt.scatter(x1, y1)\n",
    "plt.plot(xrange, yrange, 'C1--')\n",
    "\n",
    "plt.show()"
   ]
  },
  {
   "cell_type": "code",
   "execution_count": null,
   "metadata": {},
   "outputs": [],
   "source": []
  },
  {
   "cell_type": "code",
   "execution_count": null,
   "metadata": {},
   "outputs": [],
   "source": []
  }
 ],
 "metadata": {
  "kernelspec": {
   "display_name": "Python 3",
   "language": "python",
   "name": "python3"
  },
  "language_info": {
   "codemirror_mode": {
    "name": "ipython",
    "version": 3
   },
   "file_extension": ".py",
   "mimetype": "text/x-python",
   "name": "python",
   "nbconvert_exporter": "python",
   "pygments_lexer": "ipython3",
   "version": "3.8.5"
  }
 },
 "nbformat": 4,
 "nbformat_minor": 4
}
