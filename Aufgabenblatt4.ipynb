{
 "cells": [
  {
   "cell_type": "code",
   "execution_count": 1,
   "metadata": {},
   "outputs": [],
   "source": [
    "import tensorflow as tf"
   ]
  },
  {
   "cell_type": "markdown",
   "metadata": {},
   "source": [
    "## 10. a)"
   ]
  },
  {
   "cell_type": "code",
   "execution_count": 7,
   "metadata": {},
   "outputs": [
    {
     "data": {
      "text/plain": [
       "<tf.Tensor: shape=(3, 5), dtype=float32, numpy=\n",
       "array([[-1.6635239 ,  0.5375756 ,  0.2938367 , -0.473334  ,  2.6855638 ],\n",
       "       [-0.00305141,  1.2878996 , -0.25768167, -1.6679115 , -0.9790293 ],\n",
       "       [-0.16013305, -0.40709388, -0.4533136 , -1.4986119 ,  0.51624495]],\n",
       "      dtype=float32)>"
      ]
     },
     "execution_count": 7,
     "metadata": {},
     "output_type": "execute_result"
    }
   ],
   "source": [
    "A = tf.random.normal(shape=[3,5])\n",
    "A"
   ]
  },
  {
   "cell_type": "code",
   "execution_count": 8,
   "metadata": {},
   "outputs": [
    {
     "data": {
      "text/plain": [
       "<tf.Tensor: shape=(5, 4), dtype=float32, numpy=\n",
       "array([[-0.75769913,  0.20441101,  0.35758913,  1.2335068 ],\n",
       "       [-0.14499457, -0.19949213,  2.2742403 ,  1.8411194 ],\n",
       "       [ 0.44169572,  0.34174514,  0.23008054,  0.12938735],\n",
       "       [ 0.8607817 , -0.49120417, -0.01816327, -0.5456759 ],\n",
       "       [-0.93973154, -0.37113196, -0.5074433 ,  0.85427475]],\n",
       "      dtype=float32)>"
      ]
     },
     "execution_count": 8,
     "metadata": {},
     "output_type": "execute_result"
    }
   ],
   "source": [
    "B = tf.random.normal(shape=[5,4])\n",
    "B"
   ]
  },
  {
   "cell_type": "code",
   "execution_count": 15,
   "metadata": {},
   "outputs": [],
   "source": [
    "import numpy as np\n",
    "np.savetxt('Matrizen_Ordner\\\\MatrixA.csv', A, delimiter=',')"
   ]
  },
  {
   "cell_type": "code",
   "execution_count": 16,
   "metadata": {},
   "outputs": [],
   "source": [
    "np.savetxt('Matrizen_Ordner\\\\MatrixB.csv', B, delimiter=',')"
   ]
  },
  {
   "cell_type": "markdown",
   "metadata": {},
   "source": [
    "## 10. b)"
   ]
  },
  {
   "cell_type": "code",
   "execution_count": 17,
   "metadata": {},
   "outputs": [
    {
     "data": {
      "text/html": [
       "<div>\n",
       "<style scoped>\n",
       "    .dataframe tbody tr th:only-of-type {\n",
       "        vertical-align: middle;\n",
       "    }\n",
       "\n",
       "    .dataframe tbody tr th {\n",
       "        vertical-align: top;\n",
       "    }\n",
       "\n",
       "    .dataframe thead th {\n",
       "        text-align: right;\n",
       "    }\n",
       "</style>\n",
       "<table border=\"1\" class=\"dataframe\">\n",
       "  <thead>\n",
       "    <tr style=\"text-align: right;\">\n",
       "      <th></th>\n",
       "      <th>0</th>\n",
       "      <th>1</th>\n",
       "      <th>2</th>\n",
       "      <th>3</th>\n",
       "      <th>4</th>\n",
       "    </tr>\n",
       "  </thead>\n",
       "  <tbody>\n",
       "    <tr>\n",
       "      <th>0</th>\n",
       "      <td>-1.663524</td>\n",
       "      <td>0.537576</td>\n",
       "      <td>0.293837</td>\n",
       "      <td>-0.473334</td>\n",
       "      <td>2.685564</td>\n",
       "    </tr>\n",
       "    <tr>\n",
       "      <th>1</th>\n",
       "      <td>-0.003051</td>\n",
       "      <td>1.287900</td>\n",
       "      <td>-0.257682</td>\n",
       "      <td>-1.667912</td>\n",
       "      <td>-0.979029</td>\n",
       "    </tr>\n",
       "    <tr>\n",
       "      <th>2</th>\n",
       "      <td>-0.160133</td>\n",
       "      <td>-0.407094</td>\n",
       "      <td>-0.453314</td>\n",
       "      <td>-1.498612</td>\n",
       "      <td>0.516245</td>\n",
       "    </tr>\n",
       "  </tbody>\n",
       "</table>\n",
       "</div>"
      ],
      "text/plain": [
       "          0         1         2         3         4\n",
       "0 -1.663524  0.537576  0.293837 -0.473334  2.685564\n",
       "1 -0.003051  1.287900 -0.257682 -1.667912 -0.979029\n",
       "2 -0.160133 -0.407094 -0.453314 -1.498612  0.516245"
      ]
     },
     "execution_count": 17,
     "metadata": {},
     "output_type": "execute_result"
    }
   ],
   "source": [
    "import pandas as pd\n",
    "\n",
    "dfA = pd.read_csv('Matrizen_Ordner\\\\MatrixA.csv', header=None)\n",
    "dfA"
   ]
  },
  {
   "cell_type": "code",
   "execution_count": 18,
   "metadata": {},
   "outputs": [
    {
     "data": {
      "text/html": [
       "<div>\n",
       "<style scoped>\n",
       "    .dataframe tbody tr th:only-of-type {\n",
       "        vertical-align: middle;\n",
       "    }\n",
       "\n",
       "    .dataframe tbody tr th {\n",
       "        vertical-align: top;\n",
       "    }\n",
       "\n",
       "    .dataframe thead th {\n",
       "        text-align: right;\n",
       "    }\n",
       "</style>\n",
       "<table border=\"1\" class=\"dataframe\">\n",
       "  <thead>\n",
       "    <tr style=\"text-align: right;\">\n",
       "      <th></th>\n",
       "      <th>0</th>\n",
       "      <th>1</th>\n",
       "      <th>2</th>\n",
       "      <th>3</th>\n",
       "    </tr>\n",
       "  </thead>\n",
       "  <tbody>\n",
       "    <tr>\n",
       "      <th>0</th>\n",
       "      <td>-0.757699</td>\n",
       "      <td>0.204411</td>\n",
       "      <td>0.357589</td>\n",
       "      <td>1.233507</td>\n",
       "    </tr>\n",
       "    <tr>\n",
       "      <th>1</th>\n",
       "      <td>-0.144995</td>\n",
       "      <td>-0.199492</td>\n",
       "      <td>2.274240</td>\n",
       "      <td>1.841119</td>\n",
       "    </tr>\n",
       "    <tr>\n",
       "      <th>2</th>\n",
       "      <td>0.441696</td>\n",
       "      <td>0.341745</td>\n",
       "      <td>0.230081</td>\n",
       "      <td>0.129387</td>\n",
       "    </tr>\n",
       "    <tr>\n",
       "      <th>3</th>\n",
       "      <td>0.860782</td>\n",
       "      <td>-0.491204</td>\n",
       "      <td>-0.018163</td>\n",
       "      <td>-0.545676</td>\n",
       "    </tr>\n",
       "    <tr>\n",
       "      <th>4</th>\n",
       "      <td>-0.939732</td>\n",
       "      <td>-0.371132</td>\n",
       "      <td>-0.507443</td>\n",
       "      <td>0.854275</td>\n",
       "    </tr>\n",
       "  </tbody>\n",
       "</table>\n",
       "</div>"
      ],
      "text/plain": [
       "          0         1         2         3\n",
       "0 -0.757699  0.204411  0.357589  1.233507\n",
       "1 -0.144995 -0.199492  2.274240  1.841119\n",
       "2  0.441696  0.341745  0.230081  0.129387\n",
       "3  0.860782 -0.491204 -0.018163 -0.545676\n",
       "4 -0.939732 -0.371132 -0.507443  0.854275"
      ]
     },
     "execution_count": 18,
     "metadata": {},
     "output_type": "execute_result"
    }
   ],
   "source": [
    "dfB = pd.read_csv('Matrizen_Ordner\\\\MatrixB.csv', header=None)\n",
    "dfB"
   ]
  },
  {
   "cell_type": "markdown",
   "metadata": {},
   "source": [
    "## 10. c)"
   ]
  },
  {
   "cell_type": "code",
   "execution_count": 22,
   "metadata": {},
   "outputs": [
    {
     "name": "stdout",
     "output_type": "stream",
     "text": [
      "MatrixA: tf.Tensor(\n",
      "[[-1.6635239   0.5375756   0.2938367  -0.473334    2.6855638 ]\n",
      " [-0.00305141  1.2878996  -0.25768167 -1.6679115  -0.9790293 ]\n",
      " [-0.16013305 -0.40709388 -0.4533136  -1.4986119   0.51624495]], shape=(3, 5), dtype=float32)\n",
      "MatrixB: tf.Tensor(\n",
      "[[-0.75769913  0.20441101  0.35758913  1.2335068 ]\n",
      " [-0.14499457 -0.19949213  2.2742403   1.8411194 ]\n",
      " [ 0.44169572  0.34174514  0.23008054  0.12938735]\n",
      " [ 0.8607817  -0.49120417 -0.01816327 -0.5456759 ]\n",
      " [-0.93973154 -0.37113196 -0.5074433   0.85427475]], shape=(5, 4), dtype=float32)\n",
      "Ergebnis: tf.Tensor(\n",
      "[[-1.6188549  -1.1110624  -0.6588501   1.5282878 ]\n",
      " [-0.8139263   0.83702314  3.395711    2.4078515 ]\n",
      " [-1.794977    0.43809077 -1.3221351   0.2530847 ]], shape=(3, 4), dtype=float32)\n"
     ]
    }
   ],
   "source": [
    "print(\"MatrixA:\", A)\n",
    "print(\"MatrixB:\", B)\n",
    "print(\"Ergebnis:\", tf.matmul(A,B))"
   ]
  },
  {
   "cell_type": "markdown",
   "metadata": {},
   "source": [
    "## 11."
   ]
  },
  {
   "cell_type": "code",
   "execution_count": 140,
   "metadata": {},
   "outputs": [],
   "source": [
    "def f_it(x):\n",
    "    y = []\n",
    "    for xi in x:\n",
    "        yi = xi**3 - 1/xi\n",
    "        y.append(yi)    \n",
    "    return y"
   ]
  },
  {
   "cell_type": "code",
   "execution_count": 141,
   "metadata": {},
   "outputs": [],
   "source": [
    "x = np.linspace(-5,5,100)\n",
    "y = f_it(x)"
   ]
  },
  {
   "cell_type": "code",
   "execution_count": 165,
   "metadata": {},
   "outputs": [
    {
     "data": {
      "image/png": "[encoded data removed]",
      "text/plain": [
       "<Figure size 432x288 with 1 Axes>"
      ]
     },
     "metadata": {
      "needs_background": "light"
     },
     "output_type": "display_data"
    }
   ],
   "source": [
    "import matplotlib.pyplot as plt\n",
    "\n",
    "#Koordinatensystem\n",
    "ax = plt.gca()\n",
    "ax.spines['left'].set_position('zero')\n",
    "ax.spines['bottom'].set_position('zero')\n",
    "ax.spines['right'].set_color('none')\n",
    "ax.spines['top'].set_color('none')\n",
    "\n",
    "#Funktion\n",
    "plt.plot(x,y, 'r')\n",
    "\n",
    "plt.show()"
   ]
  },
  {
   "cell_type": "code",
   "execution_count": 166,
   "metadata": {},
   "outputs": [],
   "source": [
    "def f(x):\n",
    "    y = x**3 - 1/x\n",
    "    return y"
   ]
  },
  {
   "cell_type": "code",
   "execution_count": 167,
   "metadata": {},
   "outputs": [],
   "source": [
    "def Df(x):\n",
    "    h = 3*x**2 + 1/x**2\n",
    "    return h"
   ]
  },
  {
   "cell_type": "code",
   "execution_count": 168,
   "metadata": {},
   "outputs": [],
   "source": [
    "x1 = 1\n",
    "h = Df(x1)\n",
    "y1 = f(x1)"
   ]
  },
  {
   "cell_type": "code",
   "execution_count": 169,
   "metadata": {},
   "outputs": [
    {
     "name": "stdout",
     "output_type": "stream",
     "text": [
      "4.0\n",
      "0.0\n"
     ]
    }
   ],
   "source": [
    "print(h)\n",
    "print(y1)"
   ]
  },
  {
   "cell_type": "code",
   "execution_count": 170,
   "metadata": {},
   "outputs": [
    {
     "data": {
      "text/plain": [
       "array([-4.        , -2.88888889, -1.77777778, -0.66666667,  0.44444444,\n",
       "        1.55555556,  2.66666667,  3.77777778,  4.88888889,  6.        ])"
      ]
     },
     "execution_count": 170,
     "metadata": {},
     "output_type": "execute_result"
    }
   ],
   "source": [
    "xrange = np.linspace(x1-5, x1+5, 10)\n",
    "xrange"
   ]
  },
  {
   "cell_type": "code",
   "execution_count": 171,
   "metadata": {},
   "outputs": [
    {
     "data": {
      "text/plain": [
       "[-20.0,\n",
       " -15.555555555555555,\n",
       " -11.11111111111111,\n",
       " -6.666666666666666,\n",
       " -2.2222222222222214,\n",
       " 2.2222222222222214,\n",
       " 6.666666666666668,\n",
       " 11.111111111111114,\n",
       " 15.555555555555557,\n",
       " 20.0]"
      ]
     },
     "execution_count": 171,
     "metadata": {},
     "output_type": "execute_result"
    }
   ],
   "source": [
    "def line(xrange, h):\n",
    "    yrange = []\n",
    "    for x in xrange:\n",
    "        y = h*x -h\n",
    "        yrange.append(y)\n",
    "    return yrange\n",
    "\n",
    "yrange = line(xrange, h)\n",
    "yrange"
   ]
  },
  {
   "cell_type": "code",
   "execution_count": 172,
   "metadata": {},
   "outputs": [
    {
     "data": {
      "image/png": "[encoded data removed]",
      "text/plain": [
       "<Figure size 432x288 with 1 Axes>"
      ]
     },
     "metadata": {
      "needs_background": "light"
     },
     "output_type": "display_data"
    }
   ],
   "source": [
    "\n",
    "\n",
    "#Koordinatensystem\n",
    "ax = plt.gca()\n",
    "ax.spines['left'].set_position('zero')\n",
    "ax.spines['bottom'].set_position('zero')\n",
    "ax.spines['right'].set_color('none')\n",
    "ax.spines['top'].set_color('none')\n",
    "\n",
    "#Funktion\n",
    "plt.plot(x,y, 'b')\n",
    "plt.scatter(x1, y1)\n",
    "plt.plot(xrange, yrange, 'C1--')\n",
    "\n",
    "plt.show()"
   ]
  },
  {
   "cell_type": "code",
   "execution_count": null,
   "metadata": {},
   "outputs": [],
   "source": []
  },
  {
   "cell_type": "code",
   "execution_count": null,
   "metadata": {},
   "outputs": [],
   "source": []
  }
 ],
 "metadata": {
  "kernelspec": {
   "display_name": "Python 3",
   "language": "python",
   "name": "python3"
  },
  "language_info": {
   "codemirror_mode": {
    "name": "ipython",
    "version": 3
   },
   "file_extension": ".py",
   "mimetype": "text/x-python",
   "name": "python",
   "nbconvert_exporter": "python",
   "pygments_lexer": "ipython3",
   "version": "3.8.5"
  }
 },
 "nbformat": 4,
 "nbformat_minor": 4
}
