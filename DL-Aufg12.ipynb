{
 "cells": [
  {
   "cell_type": "code",
   "execution_count": 11,
   "metadata": {},
   "outputs": [],
   "source": [
    "import tensorflow as tf\n",
    "import matplotlib.pyplot as plt\n",
    "import numpy as np\n",
    "import torch\n",
    "import warnings"
   ]
  },
  {
   "cell_type": "code",
   "execution_count": 139,
   "metadata": {},
   "outputs": [],
   "source": [
    "SEED = 123\n",
    "np.random.seed(SEED)\n",
    "torch.manual_seed(SEED)\n",
    "torch.backends.cudnn.deterministic = True\n",
    "torch.backends.cudnn.benchmark = False\n",
    "torch.cuda.manual_seed_all(SEED)\n",
    "warnings.filterwarnings(\"ignore\", \"Lazy modules are a new feature.*\")"
   ]
  },
  {
   "cell_type": "code",
   "execution_count": 183,
   "metadata": {},
   "outputs": [
    {
     "name": "stdout",
     "output_type": "stream",
     "text": [
      "[[[0 0 0 ... 0 0 0]\n",
      "  [0 0 0 ... 0 0 0]\n",
      "  [0 0 0 ... 0 0 0]\n",
      "  ...\n",
      "  [0 0 0 ... 0 0 0]\n",
      "  [0 0 0 ... 0 0 0]\n",
      "  [0 0 0 ... 0 0 0]]\n",
      "\n",
      " [[0 0 0 ... 0 0 0]\n",
      "  [0 0 0 ... 0 0 0]\n",
      "  [0 0 0 ... 0 0 0]\n",
      "  ...\n",
      "  [0 0 0 ... 0 0 0]\n",
      "  [0 0 0 ... 0 0 0]\n",
      "  [0 0 0 ... 0 0 0]]\n",
      "\n",
      " [[0 0 0 ... 0 0 0]\n",
      "  [0 0 0 ... 0 0 0]\n",
      "  [0 0 0 ... 0 0 0]\n",
      "  ...\n",
      "  [0 0 0 ... 0 0 0]\n",
      "  [0 0 0 ... 0 0 0]\n",
      "  [0 0 0 ... 0 0 0]]\n",
      "\n",
      " ...\n",
      "\n",
      " [[0 0 0 ... 0 0 0]\n",
      "  [0 0 0 ... 0 0 0]\n",
      "  [0 0 0 ... 0 0 0]\n",
      "  ...\n",
      "  [0 0 0 ... 0 0 0]\n",
      "  [0 0 0 ... 0 0 0]\n",
      "  [0 0 0 ... 0 0 0]]\n",
      "\n",
      " [[0 0 0 ... 0 0 0]\n",
      "  [0 0 0 ... 0 0 0]\n",
      "  [0 0 0 ... 0 0 0]\n",
      "  ...\n",
      "  [0 0 0 ... 0 0 0]\n",
      "  [0 0 0 ... 0 0 0]\n",
      "  [0 0 0 ... 0 0 0]]\n",
      "\n",
      " [[0 0 0 ... 0 0 0]\n",
      "  [0 0 0 ... 0 0 0]\n",
      "  [0 0 0 ... 0 0 0]\n",
      "  ...\n",
      "  [0 0 0 ... 0 0 0]\n",
      "  [0 0 0 ... 0 0 0]\n",
      "  [0 0 0 ... 0 0 0]]]\n",
      "[5 0 4 ... 4 5 6]\n"
     ]
    }
   ],
   "source": [
    "#from sklearn.datasets import fetch_openml\n",
    "\n",
    "#mnist = fetch_openml(\"mnist_784\")  # Fetch the MNIST dataset\n",
    "\n",
    "mnist = tf.keras.datasets.mnist\n",
    "(train_images, train_labels), (test_images, test_labels) = mnist.load_data()\n",
    "\n",
    "images_all = np.append(train_images, test_images, axis=0)\n",
    "print(images_all)\n",
    "\n",
    "labels_all = np.append(train_labels, test_labels, axis=0)\n",
    "print(labels_all)\n"
   ]
  },
  {
   "cell_type": "code",
   "execution_count": 184,
   "metadata": {},
   "outputs": [],
   "source": [
    "X = images_all.astype(\"float32\") # 2D array (images are flattened into 1D)\n",
    "X /= 255.0  # Scale the features to the [0, 1] range\n",
    "X = X.reshape(len(X), 1, 28, 28)  # reshape into [N, C, H, W] for PyTorch\n",
    "\n",
    "y = labels_all.astype(\"int64\")  # 1D array of labels"
   ]
  },
  {
   "cell_type": "code",
   "execution_count": 185,
   "metadata": {},
   "outputs": [],
   "source": [
    "from torch import nn\n",
    "\n",
    "class ClassifierModule(nn.Module):\n",
    "    def __init__(self):\n",
    "        super().__init__()\n",
    "\n",
    "        self.cnn = nn.Sequential(\n",
    "            nn.Conv2d(1, 6, 3),\n",
    "            nn.ReLU(),\n",
    "            nn.BatchNorm2d(6),\n",
    "            nn.MaxPool2d(kernel_size=2, stride=2),\n",
    "            nn.Conv2d(6, 16, 3),\n",
    "            nn.ReLU(),\n",
    "            nn.BatchNorm2d(16),\n",
    "            nn.MaxPool2d(kernel_size=2, stride=2),\n",
    "        )\n",
    "        self.out = nn.Sequential(\n",
    "            nn.Flatten(),\n",
    "            nn.LazyLinear(128),\n",
    "            nn.ReLU(),\n",
    "            nn.Linear(128, 10),\n",
    "            nn.Softmax(dim=-1),\n",
    "        )\n",
    "\n",
    "    def forward(self, X):\n",
    "        X = self.cnn(X)\n",
    "        X = self.out(X)\n",
    "        return X"
   ]
  },
  {
   "cell_type": "code",
   "execution_count": 186,
   "metadata": {},
   "outputs": [],
   "source": [
    "from skorch import NeuralNetClassifier\n",
    "\n",
    "model_skorch = NeuralNetClassifier(ClassifierModule)"
   ]
  },
  {
   "cell_type": "code",
   "execution_count": 187,
   "metadata": {},
   "outputs": [
    {
     "name": "stdout",
     "output_type": "stream",
     "text": [
      "  epoch    train_loss    valid_acc    valid_loss     dur\n",
      "-------  ------------  -----------  ------------  ------\n",
      "      1        \u001b[36m0.6207\u001b[0m       \u001b[32m0.9333\u001b[0m        \u001b[35m0.2430\u001b[0m  7.8828\n",
      "      2        \u001b[36m0.1694\u001b[0m       \u001b[32m0.9539\u001b[0m        \u001b[35m0.1576\u001b[0m  7.4871\n",
      "      3        \u001b[36m0.1209\u001b[0m       \u001b[32m0.9632\u001b[0m        \u001b[35m0.1258\u001b[0m  7.6632\n",
      "      4        \u001b[36m0.0989\u001b[0m       \u001b[32m0.9672\u001b[0m        \u001b[35m0.1085\u001b[0m  7.6144\n",
      "      5        \u001b[36m0.0856\u001b[0m       \u001b[32m0.9696\u001b[0m        \u001b[35m0.0977\u001b[0m  7.5383\n",
      "      6        \u001b[36m0.0763\u001b[0m       \u001b[32m0.9718\u001b[0m        \u001b[35m0.0887\u001b[0m  7.5610\n",
      "      7        \u001b[36m0.0693\u001b[0m       \u001b[32m0.9745\u001b[0m        \u001b[35m0.0827\u001b[0m  7.5220\n",
      "      8        \u001b[36m0.0637\u001b[0m       \u001b[32m0.9756\u001b[0m        \u001b[35m0.0778\u001b[0m  7.7410\n",
      "      9        \u001b[36m0.0592\u001b[0m       \u001b[32m0.9764\u001b[0m        \u001b[35m0.0737\u001b[0m  7.6226\n",
      "     10        \u001b[36m0.0553\u001b[0m       \u001b[32m0.9775\u001b[0m        \u001b[35m0.0703\u001b[0m  7.7046\n",
      "  epoch    train_loss    valid_acc    valid_loss     dur\n",
      "-------  ------------  -----------  ------------  ------\n",
      "      1        \u001b[36m0.6614\u001b[0m       \u001b[32m0.9340\u001b[0m        \u001b[35m0.2412\u001b[0m  7.6391\n",
      "      2        \u001b[36m0.1778\u001b[0m       \u001b[32m0.9573\u001b[0m        \u001b[35m0.1488\u001b[0m  7.7627\n",
      "      3        \u001b[36m0.1237\u001b[0m       \u001b[32m0.9663\u001b[0m        \u001b[35m0.1169\u001b[0m  7.6819\n",
      "      4        \u001b[36m0.1004\u001b[0m       \u001b[32m0.9706\u001b[0m        \u001b[35m0.1008\u001b[0m  7.7618\n",
      "      5        \u001b[36m0.0868\u001b[0m       \u001b[32m0.9732\u001b[0m        \u001b[35m0.0912\u001b[0m  7.5546\n",
      "      6        \u001b[36m0.0775\u001b[0m       \u001b[32m0.9754\u001b[0m        \u001b[35m0.0848\u001b[0m  7.7626\n",
      "      7        \u001b[36m0.0707\u001b[0m       \u001b[32m0.9775\u001b[0m        \u001b[35m0.0803\u001b[0m  7.6400\n",
      "      8        \u001b[36m0.0653\u001b[0m       \u001b[32m0.9779\u001b[0m        \u001b[35m0.0769\u001b[0m  7.7955\n",
      "      9        \u001b[36m0.0609\u001b[0m       \u001b[32m0.9785\u001b[0m        \u001b[35m0.0740\u001b[0m  7.5185\n",
      "     10        \u001b[36m0.0571\u001b[0m       \u001b[32m0.9793\u001b[0m        \u001b[35m0.0716\u001b[0m  7.6638\n",
      "  epoch    train_loss    valid_acc    valid_loss     dur\n",
      "-------  ------------  -----------  ------------  ------\n",
      "      1        \u001b[36m0.6333\u001b[0m       \u001b[32m0.9386\u001b[0m        \u001b[35m0.2379\u001b[0m  7.5612\n",
      "      2        \u001b[36m0.1748\u001b[0m       \u001b[32m0.9587\u001b[0m        \u001b[35m0.1520\u001b[0m  7.6803\n",
      "      3        \u001b[36m0.1237\u001b[0m       \u001b[32m0.9652\u001b[0m        \u001b[35m0.1214\u001b[0m  7.5469\n",
      "      4        \u001b[36m0.0998\u001b[0m       \u001b[32m0.9693\u001b[0m        \u001b[35m0.1043\u001b[0m  7.6721\n",
      "      5        \u001b[36m0.0853\u001b[0m       \u001b[32m0.9721\u001b[0m        \u001b[35m0.0934\u001b[0m  7.5903\n",
      "      6        \u001b[36m0.0753\u001b[0m       \u001b[32m0.9741\u001b[0m        \u001b[35m0.0856\u001b[0m  7.7711\n",
      "      7        \u001b[36m0.0680\u001b[0m       \u001b[32m0.9759\u001b[0m        \u001b[35m0.0800\u001b[0m  7.5530\n",
      "      8        \u001b[36m0.0623\u001b[0m       \u001b[32m0.9768\u001b[0m        \u001b[35m0.0759\u001b[0m  7.7404\n",
      "      9        \u001b[36m0.0578\u001b[0m       \u001b[32m0.9782\u001b[0m        \u001b[35m0.0722\u001b[0m  7.5968\n",
      "     10        \u001b[36m0.0539\u001b[0m       \u001b[32m0.9793\u001b[0m        \u001b[35m0.0693\u001b[0m  7.6906\n",
      "  epoch    train_loss    valid_acc    valid_loss     dur\n",
      "-------  ------------  -----------  ------------  ------\n",
      "      1        \u001b[36m0.6035\u001b[0m       \u001b[32m0.9375\u001b[0m        \u001b[35m0.2294\u001b[0m  7.6327\n",
      "      2        \u001b[36m0.1679\u001b[0m       \u001b[32m0.9546\u001b[0m        \u001b[35m0.1539\u001b[0m  7.9305\n",
      "      3        \u001b[36m0.1206\u001b[0m       \u001b[32m0.9627\u001b[0m        \u001b[35m0.1249\u001b[0m  7.6261\n",
      "      4        \u001b[36m0.0980\u001b[0m       \u001b[32m0.9664\u001b[0m        \u001b[35m0.1081\u001b[0m  8.0421\n",
      "      5        \u001b[36m0.0839\u001b[0m       \u001b[32m0.9702\u001b[0m        \u001b[35m0.0969\u001b[0m  7.4866\n",
      "      6        \u001b[36m0.0740\u001b[0m       \u001b[32m0.9721\u001b[0m        \u001b[35m0.0889\u001b[0m  7.4191\n",
      "      7        \u001b[36m0.0666\u001b[0m       \u001b[32m0.9740\u001b[0m        \u001b[35m0.0829\u001b[0m  7.3463\n",
      "      8        \u001b[36m0.0608\u001b[0m       \u001b[32m0.9757\u001b[0m        \u001b[35m0.0782\u001b[0m  7.2187\n",
      "      9        \u001b[36m0.0561\u001b[0m       \u001b[32m0.9770\u001b[0m        \u001b[35m0.0744\u001b[0m  7.3703\n",
      "     10        \u001b[36m0.0522\u001b[0m       \u001b[32m0.9782\u001b[0m        \u001b[35m0.0715\u001b[0m  7.2845\n",
      "  epoch    train_loss    valid_acc    valid_loss     dur\n",
      "-------  ------------  -----------  ------------  ------\n",
      "      1        \u001b[36m0.6033\u001b[0m       \u001b[32m0.9326\u001b[0m        \u001b[35m0.2412\u001b[0m  7.5129\n",
      "      2        \u001b[36m0.1753\u001b[0m       \u001b[32m0.9510\u001b[0m        \u001b[35m0.1653\u001b[0m  7.1778\n",
      "      3        \u001b[36m0.1285\u001b[0m       \u001b[32m0.9587\u001b[0m        \u001b[35m0.1344\u001b[0m  7.4072\n",
      "      4        \u001b[36m0.1055\u001b[0m       \u001b[32m0.9640\u001b[0m        \u001b[35m0.1166\u001b[0m  7.2566\n",
      "      5        \u001b[36m0.0912\u001b[0m       \u001b[32m0.9677\u001b[0m        \u001b[35m0.1048\u001b[0m  7.3723\n",
      "      6        \u001b[36m0.0811\u001b[0m       \u001b[32m0.9702\u001b[0m        \u001b[35m0.0963\u001b[0m  7.3912\n",
      "      7        \u001b[36m0.0736\u001b[0m       \u001b[32m0.9721\u001b[0m        \u001b[35m0.0897\u001b[0m  7.2556\n",
      "      8        \u001b[36m0.0677\u001b[0m       \u001b[32m0.9745\u001b[0m        \u001b[35m0.0846\u001b[0m  7.4610\n",
      "      9        \u001b[36m0.0628\u001b[0m       \u001b[32m0.9758\u001b[0m        \u001b[35m0.0803\u001b[0m  7.4670\n",
      "     10        \u001b[36m0.0587\u001b[0m       \u001b[32m0.9762\u001b[0m        \u001b[35m0.0767\u001b[0m  7.4471\n",
      "  epoch    train_loss    valid_acc    valid_loss     dur\n",
      "-------  ------------  -----------  ------------  ------\n",
      "      1        \u001b[36m0.6363\u001b[0m       \u001b[32m0.9352\u001b[0m        \u001b[35m0.2339\u001b[0m  7.3045\n",
      "      2        \u001b[36m0.1735\u001b[0m       \u001b[32m0.9564\u001b[0m        \u001b[35m0.1536\u001b[0m  7.4900\n",
      "      3        \u001b[36m0.1243\u001b[0m       \u001b[32m0.9647\u001b[0m        \u001b[35m0.1234\u001b[0m  7.2706\n",
      "      4        \u001b[36m0.1014\u001b[0m       \u001b[32m0.9687\u001b[0m        \u001b[35m0.1066\u001b[0m  7.4491\n",
      "      5        \u001b[36m0.0875\u001b[0m       \u001b[32m0.9721\u001b[0m        \u001b[35m0.0956\u001b[0m  7.3863\n",
      "      6        \u001b[36m0.0776\u001b[0m       \u001b[32m0.9738\u001b[0m        \u001b[35m0.0878\u001b[0m  7.4690\n",
      "      7        \u001b[36m0.0700\u001b[0m       \u001b[32m0.9748\u001b[0m        \u001b[35m0.0820\u001b[0m  7.3853\n",
      "      8        \u001b[36m0.0640\u001b[0m       \u001b[32m0.9761\u001b[0m        \u001b[35m0.0773\u001b[0m  7.4571\n",
      "      9        \u001b[36m0.0590\u001b[0m       \u001b[32m0.9770\u001b[0m        \u001b[35m0.0735\u001b[0m  7.3464\n",
      "     10        \u001b[36m0.0547\u001b[0m       \u001b[32m0.9779\u001b[0m        \u001b[35m0.0704\u001b[0m  7.4042\n",
      "  epoch    train_loss    valid_acc    valid_loss     dur\n",
      "-------  ------------  -----------  ------------  ------\n",
      "      1        \u001b[36m0.6384\u001b[0m       \u001b[32m0.9351\u001b[0m        \u001b[35m0.2371\u001b[0m  7.1848\n",
      "      2        \u001b[36m0.1750\u001b[0m       \u001b[32m0.9532\u001b[0m        \u001b[35m0.1603\u001b[0m  7.3793\n",
      "      3        \u001b[36m0.1271\u001b[0m       \u001b[32m0.9613\u001b[0m        \u001b[35m0.1302\u001b[0m  7.3833\n",
      "      4        \u001b[36m0.1040\u001b[0m       \u001b[32m0.9655\u001b[0m        \u001b[35m0.1130\u001b[0m  7.3174\n",
      "      5        \u001b[36m0.0894\u001b[0m       \u001b[32m0.9686\u001b[0m        \u001b[35m0.1016\u001b[0m  7.3344\n",
      "      6        \u001b[36m0.0791\u001b[0m       \u001b[32m0.9711\u001b[0m        \u001b[35m0.0932\u001b[0m  7.3035\n",
      "      7        \u001b[36m0.0713\u001b[0m       \u001b[32m0.9732\u001b[0m        \u001b[35m0.0869\u001b[0m  7.9368\n",
      "      8        \u001b[36m0.0653\u001b[0m       \u001b[32m0.9741\u001b[0m        \u001b[35m0.0821\u001b[0m  9.7260\n",
      "      9        \u001b[36m0.0604\u001b[0m       \u001b[32m0.9755\u001b[0m        \u001b[35m0.0783\u001b[0m  8.5731\n",
      "     10        \u001b[36m0.0563\u001b[0m       \u001b[32m0.9767\u001b[0m        \u001b[35m0.0752\u001b[0m  8.2390\n",
      "  epoch    train_loss    valid_acc    valid_loss     dur\n",
      "-------  ------------  -----------  ------------  ------\n",
      "      1        \u001b[36m0.6007\u001b[0m       \u001b[32m0.9442\u001b[0m        \u001b[35m0.2199\u001b[0m  9.6262\n",
      "      2        \u001b[36m0.1610\u001b[0m       \u001b[32m0.9592\u001b[0m        \u001b[35m0.1466\u001b[0m  9.8437\n",
      "      3        \u001b[36m0.1161\u001b[0m       \u001b[32m0.9654\u001b[0m        \u001b[35m0.1197\u001b[0m  9.5195\n",
      "      4        \u001b[36m0.0951\u001b[0m       \u001b[32m0.9690\u001b[0m        \u001b[35m0.1041\u001b[0m  8.8706\n",
      "      5        \u001b[36m0.0822\u001b[0m       \u001b[32m0.9725\u001b[0m        \u001b[35m0.0939\u001b[0m  8.8497\n",
      "      6        \u001b[36m0.0731\u001b[0m       \u001b[32m0.9737\u001b[0m        \u001b[35m0.0865\u001b[0m  8.6664\n",
      "      7        \u001b[36m0.0663\u001b[0m       \u001b[32m0.9752\u001b[0m        \u001b[35m0.0810\u001b[0m  8.4232\n",
      "      8        \u001b[36m0.0609\u001b[0m       \u001b[32m0.9766\u001b[0m        \u001b[35m0.0769\u001b[0m  8.9084\n",
      "      9        \u001b[36m0.0566\u001b[0m       \u001b[32m0.9779\u001b[0m        \u001b[35m0.0733\u001b[0m  10.3926\n",
      "     10        \u001b[36m0.0529\u001b[0m       \u001b[32m0.9785\u001b[0m        \u001b[35m0.0705\u001b[0m  8.3730\n",
      "  epoch    train_loss    valid_acc    valid_loss     dur\n",
      "-------  ------------  -----------  ------------  ------\n",
      "      1        \u001b[36m0.5659\u001b[0m       \u001b[32m0.9440\u001b[0m        \u001b[35m0.2075\u001b[0m  7.8619\n",
      "      2        \u001b[36m0.1570\u001b[0m       \u001b[32m0.9598\u001b[0m        \u001b[35m0.1393\u001b[0m  7.7391\n",
      "      3        \u001b[36m0.1136\u001b[0m       \u001b[32m0.9664\u001b[0m        \u001b[35m0.1123\u001b[0m  7.9086\n",
      "      4        \u001b[36m0.0923\u001b[0m       \u001b[32m0.9708\u001b[0m        \u001b[35m0.0973\u001b[0m  7.7873\n",
      "      5        \u001b[36m0.0788\u001b[0m       \u001b[32m0.9738\u001b[0m        \u001b[35m0.0875\u001b[0m  7.7562\n",
      "      6        \u001b[36m0.0696\u001b[0m       \u001b[32m0.9758\u001b[0m        \u001b[35m0.0807\u001b[0m  7.7173\n"
     ]
    },
    {
     "name": "stdout",
     "output_type": "stream",
     "text": [
      "      7        \u001b[36m0.0627\u001b[0m       \u001b[32m0.9770\u001b[0m        \u001b[35m0.0756\u001b[0m  7.7268\n",
      "      8        \u001b[36m0.0574\u001b[0m       \u001b[32m0.9779\u001b[0m        \u001b[35m0.0717\u001b[0m  7.9589\n",
      "      9        \u001b[36m0.0531\u001b[0m       \u001b[32m0.9788\u001b[0m        \u001b[35m0.0684\u001b[0m  7.8174\n",
      "     10        \u001b[36m0.0495\u001b[0m       \u001b[32m0.9796\u001b[0m        \u001b[35m0.0660\u001b[0m  7.4788\n",
      "  epoch    train_loss    valid_acc    valid_loss     dur\n",
      "-------  ------------  -----------  ------------  ------\n",
      "      1        \u001b[36m0.6936\u001b[0m       \u001b[32m0.9328\u001b[0m        \u001b[35m0.2568\u001b[0m  7.6108\n",
      "      2        \u001b[36m0.1940\u001b[0m       \u001b[32m0.9580\u001b[0m        \u001b[35m0.1567\u001b[0m  7.6682\n",
      "      3        \u001b[36m0.1301\u001b[0m       \u001b[32m0.9663\u001b[0m        \u001b[35m0.1217\u001b[0m  7.8416\n",
      "      4        \u001b[36m0.1031\u001b[0m       \u001b[32m0.9706\u001b[0m        \u001b[35m0.1037\u001b[0m  7.6649\n",
      "      5        \u001b[36m0.0880\u001b[0m       \u001b[32m0.9732\u001b[0m        \u001b[35m0.0929\u001b[0m  7.7557\n",
      "      6        \u001b[36m0.0780\u001b[0m       \u001b[32m0.9755\u001b[0m        \u001b[35m0.0854\u001b[0m  7.6986\n",
      "      7        \u001b[36m0.0707\u001b[0m       \u001b[32m0.9767\u001b[0m        \u001b[35m0.0801\u001b[0m  7.9307\n",
      "      8        \u001b[36m0.0651\u001b[0m       \u001b[32m0.9779\u001b[0m        \u001b[35m0.0760\u001b[0m  7.7441\n",
      "      9        \u001b[36m0.0605\u001b[0m       \u001b[32m0.9786\u001b[0m        \u001b[35m0.0725\u001b[0m  7.7465\n",
      "     10        \u001b[36m0.0567\u001b[0m       \u001b[32m0.9798\u001b[0m        \u001b[35m0.0696\u001b[0m  7.9535\n"
     ]
    }
   ],
   "source": [
    "from sklearn.model_selection import cross_val_predict\n",
    "\n",
    "num_crossval_folds = 10  # 3 for efficiency; values like 5 or 10 will generally work better\n",
    "pred_probs = cross_val_predict(\n",
    "    model_skorch,\n",
    "    X,\n",
    "    y,\n",
    "    cv=num_crossval_folds,\n",
    "    method=\"predict_proba\",\n",
    ")"
   ]
  },
  {
   "cell_type": "code",
   "execution_count": 188,
   "metadata": {},
   "outputs": [
    {
     "name": "stdout",
     "output_type": "stream",
     "text": [
      "Cross-validated estimate of accuracy on held-out data: 0.9791285714285715\n"
     ]
    }
   ],
   "source": [
    "from sklearn.metrics import accuracy_score\n",
    "\n",
    "predicted_labels = pred_probs.argmax(axis=1)\n",
    "acc = accuracy_score(y, predicted_labels)\n",
    "print(f\"Cross-validated estimate of accuracy on held-out data: {acc}\")"
   ]
  },
  {
   "cell_type": "code",
   "execution_count": 199,
   "metadata": {},
   "outputs": [
    {
     "name": "stdout",
     "output_type": "stream",
     "text": [
      "Cleanlab found 122 label issues.\n",
      "Most likely label errors: \n",
      " [59915 24798 31134 59701 53216 50340 42566 10994  7010 49543 65955 23824\n",
      "  8729 32776 31596  2720 61014  4476 36238 25829 69729  1604 44848 14582\n",
      "   995 16676 42973  6448 17551 25678   494 26471 27522 26560   500 39656\n",
      "   854 20672 28556 44456 46288 51248 43109 46269 43454 57764 21348 31428\n",
      " 14008 41396 46435 20773 50514 13136 37734 60947 64956 12559  6848 25262\n",
      " 33768 61681 34750 34404 52218  6658 34678 26629 69009 19124 26626 35234\n",
      " 22779 31198 34048  1244 26444  5554 11570 28688 62130 57662 10116 47918\n",
      " 20735 50239 62896 49006 35616 47421 45761 54074 31284 20072 27225 26504\n",
      " 10241  8449  7080 24938 50329 47152 39184  8709 27155 27846 53156 47008\n",
      " 47227 44850 41284 47094 10064 41594 14740 56480 69893 11885 51944 26749\n",
      " 41464 26394]\n"
     ]
    }
   ],
   "source": [
    "from cleanlab.filter import find_label_issues\n",
    "\n",
    "ranked_label_issues = find_label_issues(\n",
    "    y,\n",
    "    pred_probs,\n",
    "    return_indices_ranked_by=\"self_confidence\",\n",
    ")\n",
    "\n",
    "print(f\"Cleanlab found {len(ranked_label_issues)} label issues.\")\n",
    "print(f\"Most likely label errors: \\n {ranked_label_issues}\")"
   ]
  },
  {
   "cell_type": "code",
   "execution_count": 200,
   "metadata": {},
   "outputs": [
    {
     "data": {
      "image/png": "[encoded data removed]",
      "text/plain": [
       "<Figure size 432x288 with 24 Axes>"
      ]
     },
     "metadata": {
      "needs_background": "light"
     },
     "output_type": "display_data"
    }
   ],
   "source": [
    "import matplotlib.pyplot as plt\n",
    "\n",
    "def plot_examples(id_iter, nrows=1, ncols=1):\n",
    "    for count, id in enumerate(id_iter):\n",
    "        plt.subplot(nrows, ncols, count + 1)\n",
    "        plt.imshow(X[id].reshape(28, 28), cmap=\"gray\")\n",
    "        plt.title(f\"{id} \\n label: {y[id]}\")\n",
    "        plt.axis(\"off\")\n",
    "\n",
    "    plt.tight_layout(h_pad=2.0, w_pad=2.5)\n",
    "    \n",
    "plot_examples(ranked_label_issues[range(24)], 3, 8)"
   ]
  },
  {
   "cell_type": "code",
   "execution_count": null,
   "metadata": {},
   "outputs": [],
   "source": [
    "import matplotlib.pyplot as plt\n",
    "plt.imshow(images_all[10994])\n"
   ]
  },
  {
   "cell_type": "code",
   "execution_count": null,
   "metadata": {},
   "outputs": [],
   "source": [
    "print(labels_all[10994])"
   ]
  }
 ],
 "metadata": {
  "kernelspec": {
   "display_name": "Python 3",
   "language": "python",
   "name": "python3"
  },
  "language_info": {
   "codemirror_mode": {
    "name": "ipython",
    "version": 3
   },
   "file_extension": ".py",
   "mimetype": "text/x-python",
   "name": "python",
   "nbconvert_exporter": "python",
   "pygments_lexer": "ipython3",
   "version": "3.8.5"
  }
 },
 "nbformat": 4,
 "nbformat_minor": 4
}
